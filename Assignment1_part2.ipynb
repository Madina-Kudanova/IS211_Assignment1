{
 "cells": [
  {
   "cell_type": "code",
   "execution_count": 1,
   "id": "73c89424-0c6f-4896-b20a-bb12a903be9a",
   "metadata": {},
   "outputs": [
    {
     "name": "stdout",
     "output_type": "stream",
     "text": [
      "Harry Potter and the Goblet of Fire, written by J. K. Rowling\n",
      "Ivanhoe: A Romance, written by Walter Scott\n"
     ]
    }
   ],
   "source": [
    "#Assignment1_part2\n",
    "\n",
    "#Create a class called Book. The class should have the following properties:\n",
    "# Two attributes, author and title, both of which should be initialized to the blank string\n",
    "# An __init__ function that takes in an author and a title, and sets them to the object variables\n",
    "# A function called display(), which when called, simply prints out a string representing the book. The output should be in the form of “title, written by author”. Example: “Of Mice and Men, written by John Steinbeck”.\n",
    "# Instantiate two objects from this class. The first object represents the book Harry Potter and the Goblet of Fire, written by J. K. Rowling; the other is Ivanhoe: A Romance by Walter Scott.\n",
    "# Print both of these objects to the screen by calling their display() functions\n",
    "\n",
    "class Book:\n",
    "    def __init__(self, author=\"\", title=\"\"):\n",
    "        self.author = author\n",
    "        self.title = title\n",
    "\n",
    "    def display(self):\n",
    "        print(f\"{self.title}, written by {self.author}\")\n",
    "\n",
    "book1 = Book(\"J. K. Rowling\", \"Harry Potter and the Goblet of Fire\")\n",
    "book2 = Book(\"Walter Scott\", \"Ivanhoe: A Romance\")\n",
    "\n",
    "\n",
    "book1.display()\n",
    "book2.display()\n",
    "\n"
   ]
  },
  {
   "cell_type": "code",
   "execution_count": null,
   "id": "29ae1fd6-0418-4e8f-baa6-6b1328aaa115",
   "metadata": {},
   "outputs": [],
   "source": []
  }
 ],
 "metadata": {
  "kernelspec": {
   "display_name": "Python 3 (ipykernel)",
   "language": "python",
   "name": "python3"
  },
  "language_info": {
   "codemirror_mode": {
    "name": "ipython",
    "version": 3
   },
   "file_extension": ".py",
   "mimetype": "text/x-python",
   "name": "python",
   "nbconvert_exporter": "python",
   "pygments_lexer": "ipython3",
   "version": "3.11.5"
  }
 },
 "nbformat": 4,
 "nbformat_minor": 5
}

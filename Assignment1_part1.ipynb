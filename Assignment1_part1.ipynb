{
 "cells": [
  {
   "cell_type": "code",
   "execution_count": 14,
   "id": "19dda0b2-bb50-43a2-9a42-001b6efd0f2e",
   "metadata": {},
   "outputs": [],
   "source": [
    "#Assignment1_part1\n",
    "#Create a function named list_divide that takes in two parameters. One parameter is a list called numbers.\n",
    "# The second parameter is an integer called divide. The divide parameter should have a default value of 2.\n",
    "# The function returns the number of elements in the numbers list that are divisible by divide.\n",
    "# Create a custom exception class called ListDivideException. This should be two lines of Python code.\n",
    "# Write another function called test_list_divide that performs the following tests on list_divide:\n",
    "# list_divide([1,2,3,4,5]) should return 2\n",
    "# list_divide([2,4,6,8,10]) should return 5\n",
    "# list_divide([30, 54, 63,98, 100], divide=10) should return 2\n",
    "# list_divide([]) should return 0\n",
    "# list_divide([1,2,3,4,5], 1) should return 5\n",
    "# The function test_list_divide does not return anything.\n",
    "# However, if any of the tests fail, the function should raise the ListDivideException.\n"
   ]
  },
  {
   "cell_type": "code",
   "execution_count": 16,
   "id": "e37c73a6-c1f0-4d4e-b402-d7e07ccf1c22",
   "metadata": {},
   "outputs": [
    {
     "name": "stdout",
     "output_type": "stream",
     "text": [
      "All test run successfully\n"
     ]
    }
   ],
   "source": [
    "def list_divide(numbers, divide=2):  # function returns the number of elements divisible by divide\n",
    "    return sum(1 for number in numbers if number % divide == 0)\n",
    "\n",
    "class ListDivideException(Exception):\n",
    "    pass \n",
    "\n",
    "def test_list_divide():\n",
    "    try:\n",
    "        assert list_divide([1, 2, 3, 4, 5]) == 2  # should return 2\n",
    "        assert list_divide([2, 4, 6, 8, 10]) == 5  # should return 5\n",
    "        assert list_divide([30, 54, 63, 98, 100], divide=10) == 2  # should return 2\n",
    "        assert list_divide([]) == 0  # should return 0\n",
    "        assert list_divide([1, 2, 3, 4, 5], 1) == 5  # should return 5\n",
    "        print(\"All test run successfully\")\n",
    "    except AssertionError:  \n",
    "        raise ListDivideException(\"FAILED!\")  # raises exception if test fails\n",
    "\n",
    "(test_list_divide())\n",
    "\n",
    "\n",
    "\n",
    "\n"
   ]
  },
  {
   "cell_type": "code",
   "execution_count": null,
   "id": "d66966ba-5db6-48fe-bd8b-0121479c0934",
   "metadata": {},
   "outputs": [],
   "source": []
  }
 ],
 "metadata": {
  "kernelspec": {
   "display_name": "Python 3 (ipykernel)",
   "language": "python",
   "name": "python3"
  },
  "language_info": {
   "codemirror_mode": {
    "name": "ipython",
    "version": 3
   },
   "file_extension": ".py",
   "mimetype": "text/x-python",
   "name": "python",
   "nbconvert_exporter": "python",
   "pygments_lexer": "ipython3",
   "version": "3.11.5"
  }
 },
 "nbformat": 4,
 "nbformat_minor": 5
}
